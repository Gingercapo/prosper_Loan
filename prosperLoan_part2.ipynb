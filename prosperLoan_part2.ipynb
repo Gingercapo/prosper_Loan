{
  "nbformat": 4,
  "nbformat_minor": 0,
  "metadata": {
    "colab": {
      "name": "prosperLoan_part2.ipynb",
      "provenance": [],
      "collapsed_sections": [],
      "authorship_tag": "ABX9TyNtTFuOQCUJ15dUiMWNMiO6",
      "include_colab_link": true
    },
    "kernelspec": {
      "name": "python3",
      "display_name": "Python 3"
    },
    "language_info": {
      "name": "python"
    }
  },
  "cells": [
    {
      "cell_type": "markdown",
      "metadata": {
        "id": "view-in-github",
        "colab_type": "text"
      },
      "source": [
        "<a href=\"https://colab.research.google.com/github/Gingercapo/prosper_Loan/blob/main/prosperLoan_part2.ipynb\" target=\"_parent\"><img src=\"https://colab.research.google.com/assets/colab-badge.svg\" alt=\"Open In Colab\"/></a>"
      ]
    },
    {
      "cell_type": "markdown",
      "source": [
        "# Part II - (prosper Loan)\n",
        "## by Obianonwo Chinedu Christian"
      ],
      "metadata": {
        "id": "8F62g-UzAm3R"
      }
    },
    {
      "cell_type": "markdown",
      "source": [
        ">**Before you start**: You must have the README.md file ready that include a summary of main findings that reflects on the steps taken during the data exploration (Part I notebook). The README.md file should also describes the key insights that will be conveyed by the explanatory slide deck (Part II  outcome)\n",
        "\n",
        "\n",
        "\n",
        "## Investigation Overview\n",
        "\n",
        "\n",
        "> Describe the overall goals of your presentation here. Add a summary of key insights at the start of the notebook, just as you added in the README.md. This will help your notebook to stay aligned to the key insights you want to include in your slide deck.\n",
        "\n",
        "> **Rubric Tip**: The key insights in the slideshow must match those documented in the README.md summary. \n",
        "\n",
        "\n",
        "## Dataset Overview\n",
        "\n",
        "> Provide a brief overview of the dataset to be presented here."
      ],
      "metadata": {
        "id": "YyGlEbxcA39q"
      }
    },
    {
      "cell_type": "code",
      "source": [
        ""
      ],
      "metadata": {
        "id": "c2SQ-epwAr-5"
      },
      "execution_count": null,
      "outputs": []
    },
    {
      "cell_type": "markdown",
      "source": [
        "# import all packages and set plots to be embedded inline\n",
        "import numpy as np\n",
        "import pandas as pd\n",
        "import matplotlib.pyplot as plt\n",
        "import seaborn as sb\n",
        "\n",
        "%matplotlib inline\n",
        "\n",
        "# suppress warnings from final output\n",
        "import warnings\n",
        "warnings.simplefilter(\"ignore\")"
      ],
      "metadata": {
        "id": "YXdNGSvDN_YJ"
      }
    },
    {
      "cell_type": "code",
      "source": [
        "# load in the dataset into a pandas dataframe"
      ],
      "metadata": {
        "id": "oDQ8xX-UOAD2"
      },
      "execution_count": null,
      "outputs": []
    },
    {
      "cell_type": "markdown",
      "source": [
        "> Note that the above cells have been set as \"Skip\"-type slides. That means\n",
        "that when the notebook is rendered as http slides, those cells won't show up."
      ],
      "metadata": {
        "id": "eBmrF6wVODgW"
      }
    },
    {
      "cell_type": "code",
      "source": [
        ""
      ],
      "metadata": {
        "id": "NzxZc86ZONh2"
      },
      "execution_count": null,
      "outputs": []
    },
    {
      "cell_type": "markdown",
      "source": [
        "## (Visualization 1)\n",
        "\n",
        "> Write a comment about your visualization here. The visualization should be in the next cell, as a sub-slide type. Make sure your visualizations are polished!\n",
        "\n",
        "> **Rubric Tip**: Provide at least 3 **polished** visualizations to convey key insights. The total number of visualizations in the slideshow shoould be less than 50% of the number of visualizations in the exploratory analysis. For example, if the exploratory analysis (Part I) has 18 visualizations, the slideshow can have (3 - 8) visualizations. \n",
        "\n",
        "\n",
        "> **Rubric Tip**: Each visualization in the slideshow is associated with **descriptive comments** that accurately depict their purpose and your observation. \n",
        "\n",
        "\n",
        "> **Rubric Tip**: All plots in the slideshow are appropriate, meaning the plot type, encodings, and transformations are suitable to the underlying data. \n",
        "\n",
        "> **Rubric Tip**: All plots in the slideshow are polished, meaning all plots have a title, labeled x/y axes (with units), x/y ticks, and legends. "
      ],
      "metadata": {
        "id": "lZyhRHsgOQnO"
      }
    },
    {
      "cell_type": "code",
      "source": [
        ""
      ],
      "metadata": {
        "id": "llDlEg2mORSG"
      },
      "execution_count": null,
      "outputs": []
    },
    {
      "cell_type": "markdown",
      "source": [
        "## (Visualization 2)\n",
        "\n",
        "> You should have at least three visualizations in your presentation,\n",
        "but feel free to add more if you'd like!"
      ],
      "metadata": {
        "id": "Ynp3lQ5TOUE0"
      }
    },
    {
      "cell_type": "code",
      "source": [
        ""
      ],
      "metadata": {
        "id": "RGIbS9ZIOUjA"
      },
      "execution_count": null,
      "outputs": []
    },
    {
      "cell_type": "markdown",
      "source": [
        "## (Visualization 3)"
      ],
      "metadata": {
        "id": "u7Evb7VgOXhJ"
      }
    },
    {
      "cell_type": "code",
      "source": [
        ""
      ],
      "metadata": {
        "id": "PPpeRz04OYHh"
      },
      "execution_count": null,
      "outputs": []
    },
    {
      "cell_type": "markdown",
      "source": [
        ">**Generate Slideshow**: Once you're ready to generate your slideshow, use the `jupyter nbconvert` command to generate the HTML slide show. . From the terminal or command line, use the following expression."
      ],
      "metadata": {
        "id": "5MJKFCJaObOH"
      }
    },
    {
      "cell_type": "code",
      "source": [
        ""
      ],
      "metadata": {
        "id": "LuNPVjesOb3w"
      },
      "execution_count": null,
      "outputs": []
    },
    {
      "cell_type": "markdown",
      "source": [
        "!jupyter nbconvert <Part_II_Filename>.ipynb --to slides --post serve --no-input --no-prompt"
      ],
      "metadata": {
        "id": "9UU6hQqPOfE-"
      }
    },
    {
      "cell_type": "markdown",
      "source": [
        "> This should open a tab in your web browser where you can scroll through your presentation. Sub-slides can be accessed by pressing 'down' when viewing its parent slide. Make sure you remove all of the quote-formatted guide notes like this one before you finish your presentation! At last, you can stop the Kernel. "
      ],
      "metadata": {
        "id": "IizbJ22pOhLf"
      }
    }
  ]
}